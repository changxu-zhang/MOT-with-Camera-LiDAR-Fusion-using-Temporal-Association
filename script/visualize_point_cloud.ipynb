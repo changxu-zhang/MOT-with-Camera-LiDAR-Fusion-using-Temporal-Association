{
 "cells": [
  {
   "cell_type": "code",
   "execution_count": 1,
   "id": "588b1ea5-918c-49b4-8b24-1e6284dde16b",
   "metadata": {
    "tags": []
   },
   "outputs": [],
   "source": [
    "# Ref. https://www.bilibili.com/video/BV1vu41147KS/?spm_id_from=333.788&vd_source=34931166f7efbf5da9a67692b5d5f309\n",
    "import numpy as np\n",
    "import matplotlib.pyplot as plt\n",
    "import cv2"
   ]
  },
  {
   "cell_type": "code",
   "execution_count": 2,
   "id": "8c9580f0-52cd-4ce4-bea1-d82b8d6bc5d5",
   "metadata": {
    "tags": []
   },
   "outputs": [],
   "source": [
    "file_name = 'samples/LIDAR_TOP/n008-2018-08-01-15-16-36-0400__LIDAR_TOP__1533151603547590.pcd.bin'"
   ]
  },
  {
   "cell_type": "code",
   "execution_count": 3,
   "id": "14020bf3-27a5-4732-95a8-10aff4a9dff5",
   "metadata": {
    "tags": []
   },
   "outputs": [],
   "source": [
    "pc = np.frombuffer(open(file_name, 'rb').read(), dtype=np.float32)"
   ]
  },
  {
   "cell_type": "code",
   "execution_count": 4,
   "id": "176a34f1-f914-4e4f-82cf-7743019c0692",
   "metadata": {
    "tags": []
   },
   "outputs": [],
   "source": [
    "# [x, y, z, intensity, ring index]\n",
    "# x, y, z coordinates according to lidar-frame\n",
    "pc = pc.reshape(-1, 5)"
   ]
  },
  {
   "cell_type": "code",
   "execution_count": 5,
   "id": "6c21ee37-e214-4a2b-8646-c14562f30991",
   "metadata": {
    "tags": []
   },
   "outputs": [],
   "source": [
    "# remove ring index since we dont need this\n",
    "pc = pc[:, :4]"
   ]
  },
  {
   "cell_type": "code",
   "execution_count": 6,
   "id": "3e81d6f3-a3c8-4da2-b21e-1703eab377a1",
   "metadata": {
    "tags": []
   },
   "outputs": [],
   "source": [
    "x, y, z, intensity = pc.T"
   ]
  },
  {
   "cell_type": "code",
   "execution_count": 7,
   "id": "44c7befe-b03d-4608-a038-e4ec41d999b2",
   "metadata": {
    "tags": []
   },
   "outputs": [
    {
     "data": {
      "image/png": "[encoded data removed]",
      "text/plain": [
       "<Figure size 640x480 with 1 Axes>"
      ]
     },
     "metadata": {},
     "output_type": "display_data"
    }
   ],
   "source": [
    "plt.plot(x, y, 'b.')\n",
    "plt.show()"
   ]
  },
  {
   "cell_type": "code",
   "execution_count": 8,
   "id": "de711d0a-35da-4914-9621-23de9a9ff4df",
   "metadata": {
    "tags": []
   },
   "outputs": [],
   "source": [
    "# normalization\n",
    "pc_range = 100\n",
    "x = x / pc_range # -1 to +1\n",
    "y = y / pc_range"
   ]
  },
  {
   "cell_type": "code",
   "execution_count": 9,
   "id": "87db7db1-d539-4b9f-8028-d326ff341a3e",
   "metadata": {
    "tags": []
   },
   "outputs": [],
   "source": [
    "# config output image\n",
    "img_size = 1024\n",
    "img = np.zeros((img_size, img_size, 3), np.uint8)"
   ]
  },
  {
   "cell_type": "code",
   "execution_count": 10,
   "id": "eba41384-246c-4806-b3f5-4035583da332",
   "metadata": {
    "tags": []
   },
   "outputs": [],
   "source": [
    "# scale and move to center\n",
    "x = x * img_size / 2 + img_size / 2\n",
    "y = y * img_size / 2 + img_size / 2"
   ]
  },
  {
   "cell_type": "code",
   "execution_count": 11,
   "id": "e2207148-0a75-4b7b-b65f-2a77555e935c",
   "metadata": {
    "tags": []
   },
   "outputs": [],
   "source": [
    "for ix, iy, iz in zip(x, y, z):\n",
    "    ix = int(ix)\n",
    "    iy = int(iy)\n",
    "    \n",
    "    # keep points that are in the range\n",
    "    if ix >= 0 and ix < img_size and iy >= 0 and iy < img_size:\n",
    "        alpha = min(1, max(0, ((iz+5) / 2)))\n",
    "        color = alpha * 255\n",
    "        img[iy, ix] = color, color, color"
   ]
  },
  {
   "cell_type": "code",
   "execution_count": 1,
   "id": "6780b7a1-647e-498d-99b7-127611a9c016",
   "metadata": {
    "tags": []
   },
   "outputs": [
    {
     "ename": "NameError",
     "evalue": "name 'cv2' is not defined",
     "output_type": "error",
     "traceback": [
      "\u001b[0;31m---------------------------------------------------------------------------\u001b[0m",
      "\u001b[0;31mNameError\u001b[0m                                 Traceback (most recent call last)",
      "Cell \u001b[0;32mIn[1], line 1\u001b[0m\n\u001b[0;32m----> 1\u001b[0m \u001b[43mcv2\u001b[49m\u001b[38;5;241m.\u001b[39mimshow(\u001b[38;5;124m'\u001b[39m\u001b[38;5;124mpc\u001b[39m\u001b[38;5;124m'\u001b[39m, img)\n\u001b[1;32m      2\u001b[0m cv2\u001b[38;5;241m.\u001b[39mwaitKey(\u001b[38;5;241m0\u001b[39m)\n\u001b[1;32m      3\u001b[0m cv2\u001b[38;5;241m.\u001b[39mdestroyAllWindows() \u001b[38;5;66;03m# dont click close, just type anything on keyborad\u001b[39;00m\n",
      "\u001b[0;31mNameError\u001b[0m: name 'cv2' is not defined"
     ]
    }
   ],
   "source": [
    "cv2.imshow('pc', img)\n",
    "cv2.waitKey(0)\n",
    "cv2.destroyAllWindows() # dont click close, just type anything on keyborad"
   ]
  },
  {
   "cell_type": "code",
   "execution_count": null,
   "id": "8789f46a-3062-4012-bbe5-11961194c8fc",
   "metadata": {
    "tags": []
   },
   "outputs": [],
   "source": [
    "# save img in .jpg file\n",
    "cv2.imwrite('pc.jpg', img)"
   ]
  },
  {
   "cell_type": "code",
   "execution_count": null,
   "id": "b4981dfa-ac80-4720-8001-8c23e79020d3",
   "metadata": {},
   "outputs": [],
   "source": []
  }
 ],
 "metadata": {
  "kernelspec": {
   "display_name": "Python 3",
   "language": "python",
   "name": "python3"
  },
  "language_info": {
   "codemirror_mode": {
    "name": "ipython",
    "version": 3
   },
   "file_extension": ".py",
   "mimetype": "text/x-python",
   "name": "python",
   "nbconvert_exporter": "python",
   "pygments_lexer": "ipython3",
   "version": "3.8.16"
  }
 },
 "nbformat": 4,
 "nbformat_minor": 5
}
