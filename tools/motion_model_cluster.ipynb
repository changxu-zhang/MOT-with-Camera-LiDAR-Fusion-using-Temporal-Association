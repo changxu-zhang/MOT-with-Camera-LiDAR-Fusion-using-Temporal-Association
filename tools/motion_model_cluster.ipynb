{
 "cells": [
  {
   "cell_type": "code",
   "execution_count": 1,
   "metadata": {},
   "outputs": [],
   "source": [
    "from nuscenes import NuScenes\n",
    "from nuscenes.utils import splits"
   ]
  },
  {
   "cell_type": "code",
   "execution_count": 2,
   "metadata": {},
   "outputs": [
    {
     "name": "stdout",
     "output_type": "stream",
     "text": [
      "======\n",
      "Loading NuScenes tables for version v1.0-mini...\n",
      "23 category,\n",
      "8 attribute,\n",
      "4 visibility,\n",
      "911 instance,\n",
      "12 sensor,\n",
      "120 calibrated_sensor,\n",
      "31206 ego_pose,\n",
      "8 log,\n",
      "10 scene,\n",
      "404 sample,\n",
      "31206 sample_data,\n",
      "18538 sample_annotation,\n",
      "4 map,\n",
      "Done loading in 0.343 seconds.\n",
      "======\n",
      "Reverse indexing ...\n",
      "Done reverse indexing in 0.1 seconds.\n",
      "======\n"
     ]
    }
   ],
   "source": [
    "version = 'v1.0-mini'\n",
    "dataroot = \"/data_from_host/shared/datasets/nuscenes/nuscenes_mini_with_prev_next\"\n",
    "nusc = NuScenes(version, dataroot, verbose=True)\n",
    "# scenes = splits.mini_val"
   ]
  },
  {
   "cell_type": "code",
   "execution_count": 21,
   "metadata": {},
   "outputs": [
    {
     "data": {
      "text/plain": [
       "[{'token': 'cc8c0bf57f984915a77078b10eb33198',\n",
       "  'log_token': '7e25a2c8ea1f41c5b0da1e69ecfa71a2',\n",
       "  'nbr_samples': 39,\n",
       "  'first_sample_token': 'ca9a282c9e77460f8360f564131a8af5',\n",
       "  'last_sample_token': 'ed5fc18c31904f96a8f0dbb99ff069c0',\n",
       "  'name': 'scene-0061',\n",
       "  'description': 'Parked truck, construction, intersection, turn left, following a van'},\n",
       " {'token': 'fcbccedd61424f1b85dcbf8f897f9754',\n",
       "  'log_token': '53cf9c55dd8644bea67b9f009fc1ee38',\n",
       "  'nbr_samples': 40,\n",
       "  'first_sample_token': '3e8750f331d7499e9b5123e9eb70f2e2',\n",
       "  'last_sample_token': '281b92269fd648d4b52d06ac06ca6d65',\n",
       "  'name': 'scene-0103',\n",
       "  'description': 'Many peds right, wait for turning car, long bike rack left, cyclist'},\n",
       " {'token': '6f83169d067343658251f72e1dd17dbc',\n",
       "  'log_token': '881dd2f8aaec49b681eb54be5bf3b3e2',\n",
       "  'nbr_samples': 41,\n",
       "  'first_sample_token': '8687ba92abd3406aa797115b874ebeba',\n",
       "  'last_sample_token': 'dcbe451d383e450786aaad04ab9d3790',\n",
       "  'name': 'scene-0553',\n",
       "  'description': 'Wait at intersection, bicycle, large truck, peds crossing crosswalk, ped with stroller'},\n",
       " {'token': 'bebf5f5b2a674631ab5c88fd1aa9e87a',\n",
       "  'log_token': '6f7fe59adf984e55a82571ab4f17e4e2',\n",
       "  'nbr_samples': 41,\n",
       "  'first_sample_token': '5991fad3280c4f84b331536c32001a04',\n",
       "  'last_sample_token': '35833ae5808e4ef186d1fdebac3d9cf6',\n",
       "  'name': 'scene-0655',\n",
       "  'description': 'Parking lot, parked cars, jaywalker, bendy bus, gardening vehicles'},\n",
       " {'token': '2fc3753772e241f2ab2cd16a784cc680',\n",
       "  'log_token': '3a43824b84534c98bda1d07548db5817',\n",
       "  'nbr_samples': 41,\n",
       "  'first_sample_token': 'cd9964f8c3d34383b16e9c2997de1ed0',\n",
       "  'last_sample_token': '8fe9664cec514a58b1184c4fcefda6b5',\n",
       "  'name': 'scene-0757',\n",
       "  'description': 'Arrive at busy intersection, bus, wait at intersection, bicycle, peds'},\n",
       " {'token': 'c5224b9b454b4ded9b5d2d2634bbda8a',\n",
       "  'log_token': '8ff48ad1df8e4966a2151730c92b7f3c',\n",
       "  'nbr_samples': 40,\n",
       "  'first_sample_token': 'c1676a2feac74eee8aa38ca3901787d6',\n",
       "  'last_sample_token': '63c24b51feb94f14bec29022dae4975d',\n",
       "  'name': 'scene-0796',\n",
       "  'description': 'Scooter, peds on sidewalk, bus, cars, truck, fake construction worker, bicycle, cross intersection, car overtaking us'},\n",
       " {'token': '325cef682f064c55a255f2625c533b75',\n",
       "  'log_token': '5bd40b613ac740cd9dbacdfbc3d68201',\n",
       "  'nbr_samples': 41,\n",
       "  'first_sample_token': 'b5989651183643369174912bc5641d3b',\n",
       "  'last_sample_token': 'b4ff30109dd14c89b24789dc5713cf8c',\n",
       "  'name': 'scene-0916',\n",
       "  'description': 'Parking lot, bicycle rack, parked bicycles, bus, many peds, parked scooters, parked motorcycle'},\n",
       " {'token': 'd25718445d89453381c659b9c8734939',\n",
       "  'log_token': '8fefc430cbfa4c2191978c0df302eb98',\n",
       "  'nbr_samples': 41,\n",
       "  'first_sample_token': '5998b71b64c146769bde1d5430741381',\n",
       "  'last_sample_token': 'ee9b3f38dadd40588f43ba590c4751b9',\n",
       "  'name': 'scene-1077',\n",
       "  'description': 'Night, big street, bus stop, high speed, construction vehicle'},\n",
       " {'token': 'de7d80a1f5fb4c3e82ce8a4f213b450a',\n",
       "  'log_token': '8fefc430cbfa4c2191978c0df302eb98',\n",
       "  'nbr_samples': 40,\n",
       "  'first_sample_token': 'e6b0b282aa174a978272dc2d0a89d560',\n",
       "  'last_sample_token': '4e1d1031fe9f45f981a2f598365fc645',\n",
       "  'name': 'scene-1094',\n",
       "  'description': 'Night, after rain, many peds, PMD, ped with bag, jaywalker, truck, scooter'},\n",
       " {'token': 'e233467e827140efa4b42d2b4c435855',\n",
       "  'log_token': '8fefc430cbfa4c2191978c0df302eb98',\n",
       "  'nbr_samples': 40,\n",
       "  'first_sample_token': 'a480496a5988410fbe3d8ed6c84da996',\n",
       "  'last_sample_token': 'abf3d91d3c28407e80e3334fe89c03cb',\n",
       "  'name': 'scene-1100',\n",
       "  'description': 'Night, peds in sidewalk, peds cross crosswalk, scooter, PMD, difficult lighting'}]"
      ]
     },
     "execution_count": 21,
     "metadata": {},
     "output_type": "execute_result"
    }
   ],
   "source": [
    "nusc.scene"
   ]
  },
  {
   "cell_type": "code",
   "execution_count": 9,
   "metadata": {},
   "outputs": [
    {
     "data": {
      "text/plain": [
       "{'token': 'cc8c0bf57f984915a77078b10eb33198',\n",
       " 'log_token': '7e25a2c8ea1f41c5b0da1e69ecfa71a2',\n",
       " 'nbr_samples': 39,\n",
       " 'first_sample_token': 'ca9a282c9e77460f8360f564131a8af5',\n",
       " 'last_sample_token': 'ed5fc18c31904f96a8f0dbb99ff069c0',\n",
       " 'name': 'scene-0061',\n",
       " 'description': 'Parked truck, construction, intersection, turn left, following a van'}"
      ]
     },
     "execution_count": 9,
     "metadata": {},
     "output_type": "execute_result"
    }
   ],
   "source": [
    "my_scene = nusc.scene[0]\n",
    "my_scene_tk = my_scene['token']\n",
    "my_scene"
   ]
  },
  {
   "cell_type": "code",
   "execution_count": 7,
   "metadata": {},
   "outputs": [
    {
     "data": {
      "text/plain": [
       "{'token': 'ca9a282c9e77460f8360f564131a8af5',\n",
       " 'timestamp': 1532402927647951,\n",
       " 'prev': '',\n",
       " 'next': '39586f9d59004284a7114a68825e8eec',\n",
       " 'scene_token': 'cc8c0bf57f984915a77078b10eb33198',\n",
       " 'data': {'RADAR_FRONT': '37091c75b9704e0daa829ba56dfa0906',\n",
       "  'RADAR_FRONT_LEFT': '11946c1461d14016a322916157da3c7d',\n",
       "  'RADAR_FRONT_RIGHT': '491209956ee3435a9ec173dad3aaf58b',\n",
       "  'RADAR_BACK_LEFT': '312aa38d0e3e4f01b3124c523e6f9776',\n",
       "  'RADAR_BACK_RIGHT': '07b30d5eb6104e79be58eadf94382bc1',\n",
       "  'LIDAR_TOP': '9d9bf11fb0e144c8b446d54a8a00184f',\n",
       "  'CAM_FRONT': 'e3d495d4ac534d54b321f50006683844',\n",
       "  'CAM_FRONT_RIGHT': 'aac7867ebf4f446395d29fbd60b63b3b',\n",
       "  'CAM_BACK_RIGHT': '79dbb4460a6b40f49f9c150cb118247e',\n",
       "  'CAM_BACK': '03bea5763f0f4722933508d5999c5fd8',\n",
       "  'CAM_BACK_LEFT': '43893a033f9c46d4a51b5e08a67a1eb7',\n",
       "  'CAM_FRONT_LEFT': 'fe5422747a7d4268a4b07fc396707b23'},\n",
       " 'anns': ['ef63a697930c4b20a6b9791f423351da',\n",
       "  '6b89da9bf1f84fd6a5fbe1c3b236f809',\n",
       "  '924ee6ac1fed440a9d9e3720aac635a0',\n",
       "  '91e3608f55174a319246f361690906ba',\n",
       "  'cd051723ed9c40f692b9266359f547af',\n",
       "  '36d52dfedd764b27863375543c965376',\n",
       "  '70af124fceeb433ea73a79537e4bea9e',\n",
       "  '63b89fe17f3e41ecbe28337e0e35db8e',\n",
       "  'e4a3582721c34f528e3367f0bda9485d',\n",
       "  'fcb2332977ed4203aa4b7e04a538e309',\n",
       "  'a0cac1c12246451684116067ae2611f6',\n",
       "  '02248ff567e3497c957c369dc9a1bd5c',\n",
       "  '9db977e264964c2887db1e37113cddaa',\n",
       "  'ca9c5dd6cf374aa980fdd81022f016fd',\n",
       "  '179b8b54ee74425893387ebc09ee133d',\n",
       "  '5b990ac640bf498ca7fd55eaf85d3e12',\n",
       "  '16140fbf143d4e26a4a7613cbd3aa0e8',\n",
       "  '54939f11a73d4398b14aeef500bf0c23',\n",
       "  '83d881a6b3d94ef3a3bc3b585cc514f8',\n",
       "  '74986f1604f047b6925d409915265bf7',\n",
       "  'e86330c5538c4858b8d3ffe874556cc5',\n",
       "  'a7bd5bb89e27455bbb3dba89a576b6a1',\n",
       "  'fbd9d8c939b24f0eb6496243a41e8c41',\n",
       "  '198023a1fb5343a5b6fad033ab8b7057',\n",
       "  'ffeafb90ecd5429cba23d0be9a5b54ee',\n",
       "  'cc636a58e27e446cbdd030c14f3718fd',\n",
       "  '076a7e3ec6244d3b84e7df5ebcbac637',\n",
       "  '0603fbaef1234c6c86424b163d2e3141',\n",
       "  'd76bd5dcc62f4c57b9cece1c7bcfabc5',\n",
       "  '5acb6c71bcd64aa188804411b28c4c8f',\n",
       "  '49b74a5f193c4759b203123b58ca176d',\n",
       "  '77519174b48f4853a895f58bb8f98661',\n",
       "  'c5e9455e98bb42c0af7d1990db1df0c9',\n",
       "  'fcc5b4b5c4724179ab24962a39ca6d65',\n",
       "  '791d1ca7e228433fa50b01778c32449a',\n",
       "  '316d20eb238c43ef9ee195642dd6e3fe',\n",
       "  'cda0a9085607438c9b1ea87f4360dd64',\n",
       "  'e865152aaa194f22b97ad0078c012b21',\n",
       "  '7962506dbc24423aa540a5e4c7083dad',\n",
       "  '29cca6a580924b72a90b9dd6e7710d3e',\n",
       "  'a6f7d4bb60374f868144c5ba4431bf4c',\n",
       "  'f1ae3f713ba946069fa084a6b8626fbf',\n",
       "  'd7af8ede316546f68d4ab4f3dbf03f88',\n",
       "  '91cb8f15ed4444e99470d43515e50c1d',\n",
       "  'bc638d33e89848f58c0b3ccf3900c8bb',\n",
       "  '26fb370c13f844de9d1830f6176ebab6',\n",
       "  '7e66fdf908d84237943c833e6c1b317a',\n",
       "  '67c5dbb3ddcc4aff8ec5140930723c37',\n",
       "  'eaf2532c820740ae905bb7ed78fb1037',\n",
       "  '3e2d17fa9aa5484d9cabc1dfca532193',\n",
       "  'de6bd5ffbed24aa59c8891f8d9c32c44',\n",
       "  '9d51d699f635478fbbcd82a70396dd62',\n",
       "  'b7cbc6d0e80e4dfda7164871ece6cb71',\n",
       "  '563a3f547bd64a2f9969278c5ef447fd',\n",
       "  'df8917888b81424f8c0670939e61d885',\n",
       "  'bb3ef5ced8854640910132b11b597348',\n",
       "  'a522ce1d7f6545d7955779f25d01783b',\n",
       "  '1fafb2468af5481ca9967407af219c32',\n",
       "  '05de82bdb8484623906bb9d97ae87542',\n",
       "  'bfedb0d85e164b7697d1e72dd971fb72',\n",
       "  'ca0f85b4f0d44beb9b7ff87b1ab37ff5',\n",
       "  'bca4bbfdef3d4de980842f28be80b3ca',\n",
       "  'a834fb0389a8453c810c3330e3503e16',\n",
       "  '6c804cb7d78943b195045082c5c2d7fa',\n",
       "  'adf1594def9e4722b952fea33b307937',\n",
       "  '49f76277d07541c5a584aa14c9d28754',\n",
       "  '15a3b4d60b514db5a3468e2aef72a90c',\n",
       "  '18cc2837f2b9457c80af0761a0b83ccc',\n",
       "  '2bfcc693ae9946daba1d9f2724478fd4']}"
      ]
     },
     "execution_count": 7,
     "metadata": {},
     "output_type": "execute_result"
    }
   ],
   "source": [
    "first_sample_token = my_scene['first_sample_token']\n",
    "my_sample = nusc.get('sample', first_sample_token)\n",
    "my_sample"
   ]
  },
  {
   "cell_type": "code",
   "execution_count": 8,
   "metadata": {},
   "outputs": [
    {
     "data": {
      "text/plain": [
       "{'token': 'ef63a697930c4b20a6b9791f423351da',\n",
       " 'sample_token': 'ca9a282c9e77460f8360f564131a8af5',\n",
       " 'instance_token': '6dd2cbf4c24b4caeb625035869bca7b5',\n",
       " 'visibility_token': '1',\n",
       " 'attribute_tokens': ['4d8821270b4a47e3a8a300cbec48188e'],\n",
       " 'translation': [373.256, 1130.419, 0.8],\n",
       " 'size': [0.621, 0.669, 1.642],\n",
       " 'rotation': [0.9831098797903927, 0.0, 0.0, -0.18301629506281616],\n",
       " 'prev': '',\n",
       " 'next': '7987617983634b119e383d8a29607fd7',\n",
       " 'num_lidar_pts': 1,\n",
       " 'num_radar_pts': 0,\n",
       " 'category_name': 'human.pedestrian.adult'}"
      ]
     },
     "execution_count": 8,
     "metadata": {},
     "output_type": "execute_result"
    }
   ],
   "source": [
    "my_anno_token = my_sample['anns'][0]\n",
    "my_anno = nusc.get('sample_annotation', my_anno_token)\n",
    "my_anno"
   ]
  },
  {
   "cell_type": "code",
   "execution_count": 9,
   "metadata": {},
   "outputs": [
    {
     "data": {
      "text/plain": [
       "array([0.        , 0.        , 0.02000416])"
      ]
     },
     "execution_count": 9,
     "metadata": {},
     "output_type": "execute_result"
    }
   ],
   "source": [
    "nusc.box_velocity(my_anno_token)"
   ]
  },
  {
   "cell_type": "code",
   "execution_count": 24,
   "metadata": {},
   "outputs": [],
   "source": [
    "# Iterate over each sample in the dataset\n",
    "tras = []\n",
    "for sample in nusc.sample:\n",
    "    # Get the sample token\n",
    "    sample_token = sample['token']\n",
    "    \n",
    "    # Get all the annotations for this sample\n",
    "    anno_tokens = sample['anns']\n",
    "\n",
    "    # Iterate over each annotation (object) in the sample\n",
    "    tra = []\n",
    "    for anno_token in anno_tokens:    \n",
    "        # Get the object's trajectory\n",
    "        # trajectory = nusc.get('sample_annotation', annotation) #['translation']\n",
    "        trajectory = nusc.box_velocity(anno_token)\n",
    "\n",
    "        tra.append(trajectory)\n",
    "\n",
    "    tras.append(tra)"
   ]
  },
  {
   "cell_type": "code",
   "execution_count": 27,
   "metadata": {},
   "outputs": [],
   "source": [
    "tra = {}\n",
    "for scene in nusc.scene:\n",
    "    scene_token = scene['token']\n",
    "    \n",
    "    for sample in nusc."
   ]
  },
  {
   "cell_type": "code",
   "execution_count": 24,
   "metadata": {},
   "outputs": [
    {
     "ename": "TypeError",
     "evalue": "string indices must be integers",
     "output_type": "error",
     "traceback": [
      "\u001b[0;31m---------------------------------------------------------------------------\u001b[0m",
      "\u001b[0;31mTypeError\u001b[0m                                 Traceback (most recent call last)",
      "\u001b[1;32m/data_from_host/home/changxu/bevfusion/tools/motion_model_cluster.ipynb Cell 10\u001b[0m line \u001b[0;36m1\n\u001b[1;32m     <a href='vscode-notebook-cell://attached-container%2B7b22636f6e7461696e65724e616d65223a222f626576667573696f6e5f6e6577227d@ssh-remote%2Bhal.cv.tu-berlin.de/data_from_host/home/changxu/bevfusion/tools/motion_model_cluster.ipynb#X13sdnNjb2RlLXJlbW90ZQ%3D%3D?line=12'>13</a>\u001b[0m \u001b[39m# Iterate over each annotation (object) in the sample\u001b[39;00m\n\u001b[1;32m     <a href='vscode-notebook-cell://attached-container%2B7b22636f6e7461696e65724e616d65223a222f626576667573696f6e5f6e6577227d@ssh-remote%2Bhal.cv.tu-berlin.de/data_from_host/home/changxu/bevfusion/tools/motion_model_cluster.ipynb#X13sdnNjb2RlLXJlbW90ZQ%3D%3D?line=13'>14</a>\u001b[0m \u001b[39mfor\u001b[39;00m annotation \u001b[39min\u001b[39;00m annotations:\n\u001b[1;32m     <a href='vscode-notebook-cell://attached-container%2B7b22636f6e7461696e65724e616d65223a222f626576667573696f6e5f6e6577227d@ssh-remote%2Bhal.cv.tu-berlin.de/data_from_host/home/changxu/bevfusion/tools/motion_model_cluster.ipynb#X13sdnNjb2RlLXJlbW90ZQ%3D%3D?line=14'>15</a>\u001b[0m     \u001b[39m# Get the object's token\u001b[39;00m\n\u001b[0;32m---> <a href='vscode-notebook-cell://attached-container%2B7b22636f6e7461696e65724e616d65223a222f626576667573696f6e5f6e6577227d@ssh-remote%2Bhal.cv.tu-berlin.de/data_from_host/home/changxu/bevfusion/tools/motion_model_cluster.ipynb#X13sdnNjb2RlLXJlbW90ZQ%3D%3D?line=15'>16</a>\u001b[0m     object_token \u001b[39m=\u001b[39m annotation[\u001b[39m'\u001b[39;49m\u001b[39mtoken\u001b[39;49m\u001b[39m'\u001b[39;49m]\n\u001b[1;32m     <a href='vscode-notebook-cell://attached-container%2B7b22636f6e7461696e65724e616d65223a222f626576667573696f6e5f6e6577227d@ssh-remote%2Bhal.cv.tu-berlin.de/data_from_host/home/changxu/bevfusion/tools/motion_model_cluster.ipynb#X13sdnNjb2RlLXJlbW90ZQ%3D%3D?line=17'>18</a>\u001b[0m     \u001b[39m# Get the object's translation\u001b[39;00m\n\u001b[1;32m     <a href='vscode-notebook-cell://attached-container%2B7b22636f6e7461696e65724e616d65223a222f626576667573696f6e5f6e6577227d@ssh-remote%2Bhal.cv.tu-berlin.de/data_from_host/home/changxu/bevfusion/tools/motion_model_cluster.ipynb#X13sdnNjb2RlLXJlbW90ZQ%3D%3D?line=18'>19</a>\u001b[0m     translation \u001b[39m=\u001b[39m annotation[\u001b[39m'\u001b[39m\u001b[39mtranslation\u001b[39m\u001b[39m'\u001b[39m]\n",
      "\u001b[0;31mTypeError\u001b[0m: string indices must be integers"
     ]
    }
   ],
   "source": [
    "# Define the scenes you're interested in\n",
    "scenes_of_interest = ['scene-0061', 'scene-0103']  # Add scene tokens as needed\n",
    "scenes_of_interest = ['cc8c0bf57f984915a77078b10eb33198', 'fcbccedd61424f1b85dcbf8f897f9754']\n",
    "\n",
    "trans = {}\n",
    "# Iterate over each scene in the dataset\n",
    "for scene_token in scenes_of_interest:\n",
    "    # Get the sample tokens for this scene\n",
    "    sample_tokens = nusc.field2token('sample', 'scene_token', scene_token)\n",
    "    # Iterate over each sample in the scene\n",
    "    for sample_token in sample_tokens:\n",
    "        # Get all the annotations for this sample\n",
    "        anno_tokens = nusc.get('sample', sample_token)['anns']\n",
    "        \n",
    "        trans_\n",
    "        # Iterate over each annotation (object) in the sample\n",
    "        for anno_token in anno_tokens:        \n",
    "            translation = nusc.get('sample_annotation', anno_token)['translation']\n"
   ]
  },
  {
   "cell_type": "code",
   "execution_count": 25,
   "metadata": {},
   "outputs": [
    {
     "data": {
      "text/plain": [
       "['ca9a282c9e77460f8360f564131a8af5',\n",
       " '39586f9d59004284a7114a68825e8eec',\n",
       " '356d81f38dd9473ba590f39e266f54e5',\n",
       " 'e0845f5322254dafadbbed75aaa07969',\n",
       " 'c923fe08b2ff4e27975d2bf30934383b',\n",
       " 'f1e3d9d08f044c439ce86a2d6fcca57b',\n",
       " '4f545737bf3347fbbc9af60b0be9a963',\n",
       " '7626dde27d604ac28a0240bdd54eba7a',\n",
       " 'be99ffc878b24aca8956bbb4e0f97d0c',\n",
       " '9813c23a5f1448b09bb7910fea9baf20',\n",
       " '023c4df2d451409881d8e6ea82f14704',\n",
       " 'c235638ed66145988d17f9d0601923f2',\n",
       " 'bc3c8a953f6b4dcdb77b521d89f3d9d5',\n",
       " '1e3d79dae62742a0ad64c91679863358',\n",
       " '2afb9d32310e4546a71cbe432911eca2',\n",
       " 'cd21dbfc3bd749c7b10a5c42562e0c42',\n",
       " '88449a5cb1644a199c1c11f6ac034867',\n",
       " '2ff86dc19c4644a1a88ce5ba848f56e5',\n",
       " 'bf2938e43c6f487497cda76b51bfc406',\n",
       " 'b26e791522294bec90f86fd72226e35c',\n",
       " 'c844bf5a9f2243ff8f4bf2c85fe218ff',\n",
       " 'fedfb3a6cb804635a0f47143f9ca8d6f',\n",
       " '965f6af5a92449348409029a5f048a38',\n",
       " '4711bcd34644420da8bc77163431888e',\n",
       " 'a34fabc7aa674713b71f98ec541eb2d4',\n",
       " 'c78067571d104caba7c568a847d56971',\n",
       " '4246e57f018745c9b2bc68feb3d71b58',\n",
       " 'a7acb150914b40bdad9a2dc4e657cbf9',\n",
       " '0cd661df01aa40c3bb3a773ba86f753a',\n",
       " '378a3a3e9af346308ab9dff8ced46d9c',\n",
       " 'eef55c3b48f34d949959b45130ee293a',\n",
       " '5fda58ee3ae44ab9b4bbac7a2de66c27',\n",
       " '919e3c4cec934168a3152077a9adcbea',\n",
       " 'b73152cab88f49d9ba195da81fde1809',\n",
       " '6aa6fa91e0d1492e812eb7e57c47df6e',\n",
       " 'aa581aac963a4fad848ac11fe66e8637',\n",
       " '67e5f88901214f3aa03d68e028185e22',\n",
       " '29e056fc277543c9bc42310b122c640e',\n",
       " 'ed5fc18c31904f96a8f0dbb99ff069c0']"
      ]
     },
     "execution_count": 25,
     "metadata": {},
     "output_type": "execute_result"
    }
   ],
   "source": [
    "nusc.field2token('sample', 'scene_token', my_scene_tk)"
   ]
  },
  {
   "cell_type": "code",
   "execution_count": 28,
   "metadata": {},
   "outputs": [
    {
     "data": {
      "text/plain": [
       "True"
      ]
     },
     "execution_count": 28,
     "metadata": {},
     "output_type": "execute_result"
    }
   ],
   "source": [
    "'ef63a697930c4b20a6b9791f423351da' in nusc.field2token('sample_annotation', 'instance_token', '6dd2cbf4c24b4caeb625035869bca7b5')"
   ]
  },
  {
   "cell_type": "code",
   "execution_count": null,
   "metadata": {},
   "outputs": [],
   "source": []
  }
 ],
 "metadata": {
  "kernelspec": {
   "display_name": "base",
   "language": "python",
   "name": "python3"
  },
  "language_info": {
   "codemirror_mode": {
    "name": "ipython",
    "version": 3
   },
   "file_extension": ".py",
   "mimetype": "text/x-python",
   "name": "python",
   "nbconvert_exporter": "python",
   "pygments_lexer": "ipython3",
   "version": "3.8.16"
  }
 },
 "nbformat": 4,
 "nbformat_minor": 2
}
